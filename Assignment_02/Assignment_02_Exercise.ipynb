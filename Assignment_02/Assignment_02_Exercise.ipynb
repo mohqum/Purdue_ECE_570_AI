{
 "cells": [
  {
   "cell_type": "markdown",
   "metadata": {
    "id": "kLTpDVQk0ozE"
   },
   "source": [
    "# ECE 570 Assignment 2 Exercises\n",
    "\n",
    "\n",
    "\n",
    "Name: "
   ]
  },
  {
   "cell_type": "markdown",
   "metadata": {
    "id": "JqJeDZYM1LbR"
   },
   "source": [
    "## Exercise 1 (5/100 points)\n",
    "\n",
    "In this exercise, you will need to write a simple function that reverses and triples the values in a list. For example: input `[1,2,3]`, output `[9,6,3]`."
   ]
  },
  {
   "cell_type": "code",
   "execution_count": null,
   "metadata": {
    "colab": {
     "base_uri": "https://localhost:8080/"
    },
    "id": "-kmPdZCA0uRl",
    "outputId": "1d8ec046-08c4-4cd3-a9f7-b5d6dbb532a4"
   },
   "outputs": [],
   "source": [
    "def reverse_triple(input:list)->list:\n",
    "\n",
    "    # <YOUR CODE HERE>\n",
    "\n",
    "A = [2,5,3,8,7,9,6]\n",
    "print(reverse_triple(A))"
   ]
  },
  {
   "cell_type": "markdown",
   "metadata": {
    "id": "kBSX7VY10uvp"
   },
   "source": [
    "## Exercise 2 (30/100 points)\n",
    "In this exercise, you will need to help visualize several different distributions.\n",
    "\n",
    "### Task 1\n",
    "\n",
    "1.   Using Numpy to generate a vector **D** with the following property:\n",
    "\n",
    "  *   Each element is in a normal distribution. \n",
    "  *   Vector has the shape **2000x1**\n",
    "\n",
    "2.   Reshape the vector **D** into **1000x2**\n",
    "\n",
    "3.   Plot the graph in the following way:\n",
    "  *   Create a figure of size 6 by 6\n",
    "  *   Treat the two columns of the array **D** as the **x** and **y** coordinates of 2D points. Use [scatter()](https://matplotlib.org/3.2.2/api/_as_gen/matplotlib.pyplot.scatter.html) to visualize all the spots and set the marker size to be 1\n",
    "  *   Let the plot shows the range `[-5,5]x[-5,5]`\n",
    "  *   Give the plot a title (indicating the shape of **D**), and also label the x-axis and y-axis \n",
    "\n",
    "**Note:** It is always important to include necessary information (e.g. label, legend, title) so that readers won't get confused.\n",
    "\n",
    "\n"
   ]
  },
  {
   "cell_type": "code",
   "execution_count": null,
   "metadata": {
    "colab": {
     "base_uri": "https://localhost:8080/",
     "height": 404
    },
    "id": "XLFvC76d6R6D",
    "outputId": "a0fd1224-4993-44ed-fb5b-1195b16c26da"
   },
   "outputs": [],
   "source": [
    "import numpy as np\n",
    "import matplotlib.pyplot as plt\n",
    "\n",
    "#  <YOUR CODE>"
   ]
  },
  {
   "cell_type": "markdown",
   "metadata": {
    "id": "Q1HvCS16JFze"
   },
   "source": [
    "### Task 2\n",
    "\n",
    "1. Create an array **R** = $$\\begin{bmatrix} 0.25 & 0  \\\\ 0 & 1 \\\\  \\end{bmatrix}$$\n",
    "2. Compute **E** = **D** $\\times$ **R**.\n",
    "3. Repeat Step 3 above for **E**. (Title: shape of **E**)"
   ]
  },
  {
   "cell_type": "code",
   "execution_count": null,
   "metadata": {
    "colab": {
     "base_uri": "https://localhost:8080/",
     "height": 404
    },
    "id": "NT54YHtaKlrm",
    "outputId": "c3dc3a20-a43a-4c53-85f4-65caaebbfd21"
   },
   "outputs": [],
   "source": [
    "#  <YOUR CODE>\n"
   ]
  },
  {
   "cell_type": "markdown",
   "metadata": {
    "id": "qzfsgTsLMvfT"
   },
   "source": [
    "### Task 3\n",
    "\n",
    "1. Create an array **R** = $$\\begin{bmatrix} \\sqrt(2)/2 & -\\sqrt(2)/2  \\\\ \\sqrt(2)/2 & \\sqrt(2)/2 \\\\  \\end{bmatrix}$$\n",
    "2. Compute **F** = **E** $\\times$ **R**.\n",
    "3. Repeat Step 3 above for **F**. (Title: shape of **F**)"
   ]
  },
  {
   "cell_type": "code",
   "execution_count": null,
   "metadata": {
    "colab": {
     "base_uri": "https://localhost:8080/",
     "height": 404
    },
    "id": "IF03LkqJMucG",
    "outputId": "504e5191-0fff-4777-dea1-2de8e98216c4"
   },
   "outputs": [],
   "source": [
    "#  <YOUR CODE>\n"
   ]
  },
  {
   "cell_type": "markdown",
   "metadata": {
    "id": "U2K87uBXkGhd"
   },
   "source": [
    "### Task 4\n",
    "Plot the above three graphs (D, E and F) in one figure using subplot."
   ]
  },
  {
   "cell_type": "code",
   "execution_count": null,
   "metadata": {
    "colab": {
     "base_uri": "https://localhost:8080/",
     "height": 421
    },
    "id": "0CnF9sK_i20Y",
    "outputId": "38d47042-f0f5-4417-bc24-fffc1c40ebe0"
   },
   "outputs": [],
   "source": [
    "# plot the above three figures in one figure\n",
    "###### ###### Your code ###### ###### \n",
    "\n",
    "###### ###### ###### ###### ###### ######"
   ]
  },
  {
   "cell_type": "markdown",
   "metadata": {
    "id": "ZCASvgVjLDEM"
   },
   "source": [
    "## Exercise 3 (65/100 points)\n",
    "### Task 1: Generate a sparse matrix\n",
    "\n",
    "1. Generate a matrix **X** with size 100x50 with each element randomly picked from a uniform distribution **U**[0,1].\n",
    "2. Use logical(boolean) indexing to set the elements in **X** to **0** whenever the value of the element is smaller than 0.90 (In this way, you should get the matrix to have roughly 90% of its elements zero's).\n",
    "3. Use the function [csr_matrix()](https://docs.scipy.org/doc/scipy/reference/generated/scipy.sparse.csr_matrix.html#scipy.sparse.csr_matrix) to convert the matrix **X** into sparse matrix and call it **X_sparse**.\n",
    "4. Hint: Check the shape and its meaning for the numpy array / matrix you are using to make sure it is what you want.\n"
   ]
  },
  {
   "cell_type": "code",
   "execution_count": null,
   "metadata": {
    "colab": {
     "base_uri": "https://localhost:8080/"
    },
    "id": "yDb3gdzwfmiY",
    "outputId": "3cfbbe70-739e-4b29-c927-b042f1f536ae"
   },
   "outputs": [],
   "source": [
    "import numpy as np\n",
    "from scipy.sparse import csr_matrix\n",
    "\n",
    "#  <YOUR CODE>\n",
    "\n",
    "\n",
    "print(f'X has type {type(X)} and has {100-np.sum(X!=0)/50}% of zeros')\n",
    "print(f'X_sparse has type {type(X_sparse)} and has {100-np.sum(X_sparse!=0)/50}% of zeros')"
   ]
  },
  {
   "cell_type": "markdown",
   "metadata": {
    "id": "4sBEG0p_fm24"
   },
   "source": [
    "### Task 2: Construct the power iteration function\n",
    "\n",
    "Following the algorithm in the instructions notebook, write a function that takes a sparse matrix **X** and number of iterations as input and returns the top right singular vector of the centered matrix as output. We have provided some starter code and you need to fill in the rest."
   ]
  },
  {
   "cell_type": "code",
   "execution_count": null,
   "metadata": {
    "colab": {
     "base_uri": "https://localhost:8080/"
    },
    "id": "SQKSkJ2ViC3t",
    "outputId": "4bd479cb-3b06-4038-cf0e-a502d082ac31"
   },
   "outputs": [],
   "source": [
    "def power_iter(X, num_iter:int):\n",
    "   \n",
    "  v = np.random.randn(X.shape[1])  # Initialize with random vector with shape (d,)\n",
    "  one_vec = np.ones(X.shape[0])  # All ones vector with shape (n,)\n",
    "  mu_row_matrix = np.mean(X, axis=0)  # Returns a 1 row matrix with shape (d, 1) since X is of \"matrix\" type \n",
    "  mu = np.array(mu_row_matrix).squeeze()  # Convert from a sparse column matrix to a dense 1D array with shape (d,)\n",
    "  \n",
    "  ###### ###### Your code ###### ###### \n",
    "\n",
    "\n",
    "  ###### ###### ###### ###### ###### ######\n",
    "\n",
    "  return v\n",
    "\n",
    "  \n",
    "\n",
    "v1_yours = power_iter(X_sparse,1000).squeeze()\n",
    "print(v1_yours.shape)"
   ]
  },
  {
   "cell_type": "markdown",
   "metadata": {
    "id": "TkwEgBmCjEs1"
   },
   "source": [
    "### Task 3: Verifying your top singular vector\n",
    "Using any method you like to verify the vector that is computed by your function is indeed the top right singular vector of the **centered** data matrix.\n",
    "First write another function that outputs the top right singular vector for sure (you can use the function [svd()](https://numpy.org/doc/stable/reference/generated/numpy.linalg.svd.html), note that it returns $V^T$ instead of $V$).\n",
    "Then, the provided code will compute the mean absolute error (MAE) between the two functions you wrote.\n",
    "(Note: The provided evaluation code will correct for the fact that the two vectors can be the negative of each other singular value decomposition is only unique up to signs).\n",
    "The MAE should be close to machine precision (i.e., it should be less than about `1e-15`).\n",
    "\n",
    "**Note:** This is for testing the correctness of your algorithm.\n",
    "It is often a very good idea to write simple checks of your code as you write it to avoid bugs early on in your development process.\n",
    "Do not worry about efficiency for this exercise. \n",
    "\n",
    "**Hint**: The singular vectors are the columns of $U$ and $V$, which is the rows of $U^T$ and $V^T$."
   ]
  },
  {
   "cell_type": "code",
   "execution_count": null,
   "metadata": {
    "colab": {
     "base_uri": "https://localhost:8080/"
    },
    "id": "xhD8BmI_ky8X",
    "outputId": "1866d6e7-ba76-4ead-c1b3-f9f9b3a1b332"
   },
   "outputs": [],
   "source": [
    "def verify_v1(X):\n",
    "  # Compute the top right singular vector using other methods\n",
    "  #  <YOUR CODE>\n",
    "  \n",
    "\n",
    "# Note here we just pass in the dense 2D array `X`\n",
    "#  which represents the same matrix as `X_sparse`\n",
    "v1_simple = verify_v1(X).squeeze()\n",
    "# Compute a sign corrected difference between the vectors\n",
    "#  (accounting for the fact that SVD is only unique up to signs)\n",
    "diff_sign_corrected = np.sign(v1_yours[0]) * v1_yours - np.sign(v1_simple[0]) * v1_simple\n",
    "mae_corrected = np.mean(np.abs(diff_sign_corrected))\n",
    "print(f'The average absolute difference of the two function output is {mae_corrected}')"
   ]
  },
  {
   "cell_type": "markdown",
   "metadata": {
    "id": "V0_kvo5fxn8Z"
   },
   "source": [
    "### Task 4: Timing the power iteration function\n",
    "\n",
    "Below, try `power_iter` method with larger sparse and dense X matrices (100x100, 1000 x 1000, 10000x10000 with 10%, 1%, 0.1%, 0.01% nonzeros, i.e. very sparse) and time the difference. \n",
    "That is, compare the time time taken by `power_iter(X_sparse,10)` and `power_iter(X,10)`.\n",
    "Use `time.time()` to capture the start and end times (subtracting them gets you the time in seconds).\n",
    "\n",
    "What do you observe?"
   ]
  },
  {
   "cell_type": "code",
   "execution_count": null,
   "metadata": {
    "colab": {
     "base_uri": "https://localhost:8080/"
    },
    "id": "5Cynda8eq3_t",
    "outputId": "9c540b19-603f-4f20-ff48-04f12865f86c"
   },
   "outputs": [],
   "source": [
    "import time \n",
    "for threshold in [0.9, 0.99, 0.999, 0.9999]:\n",
    "    print(f\"Nonzero {(1 - threshold) * 100:.2f}%\")\n",
    "    for dim in [100, 1000, 10000]:\n",
    "        ###### ###### Your code ###### ###### \n",
    "\n",
    "\n",
    "        ###### ###### ######### ###### ###### \n",
    "        ratio = normal_time/sparse_time\n",
    "        print(f\"Size: {dim}x{dim} - Sparse method is {ratio if ratio > 1 else 1/ratio:.3f} times {'faster' if ratio >1 else 'slower'}\")\n",
    "\n"
   ]
  },
  {
   "cell_type": "markdown",
   "metadata": {
    "id": "itEKYY_elrdh"
   },
   "source": [
    "### (Optional and ungraded, 0 points) Task 5: Going beyond\n",
    "\n",
    "- In what scenarios we might find the power iteration method useful? \n",
    "  - Google's original ranking algorithm called \"PageRank\" uses a variant of this power iteration on very sparse graphs that represent connections between websites.  See [PageRank](https://en.wikipedia.org/wiki/PageRank).\n",
    "- Can you optimize your algorithm further by avoiding reusing computations?\n"
   ]
  },
  {
   "cell_type": "markdown",
   "metadata": {},
   "source": []
  }
 ],
 "metadata": {
  "colab": {
   "collapsed_sections": [],
   "provenance": []
  },
  "kernelspec": {
   "display_name": "Python 3 (ipykernel)",
   "language": "python",
   "name": "python3"
  },
  "language_info": {
   "codemirror_mode": {
    "name": "ipython",
    "version": 3
   },
   "file_extension": ".py",
   "mimetype": "text/x-python",
   "name": "python",
   "nbconvert_exporter": "python",
   "pygments_lexer": "ipython3",
   "version": "3.8.8"
  },
  "vscode": {
   "interpreter": {
    "hash": "38b65d22d35179c6935a22cd0c80ce3ebfa39e2ed4f084b887887c7215100d32"
   }
  }
 },
 "nbformat": 4,
 "nbformat_minor": 1
}
